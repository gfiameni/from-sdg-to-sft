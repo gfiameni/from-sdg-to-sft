{
 "cells": [
  {
   "cell_type": "markdown",
   "id": "8607a5b6-d2ac-4295-8592-a769e28cdf87",
   "metadata": {},
   "source": [
    "The pipeline for this tutorial aims to demonstrate a basic loop with two stages as follows. These stages are repeated until the desired dataset size is achieved:\n",
    "\n",
    "Data processing: perform operations such as HTML tag cleaning, quality-based filtering and semantic deduplication on the records.\n",
    "Synthetic data generation: query a synthetic data generation model (such as LLaMa 3.1 405B Instruct, or Nemotron-4 340B Instruct) to produce synthetic variants of existing records. Each synthetic record is then fed to a reward model (such as Nemotron-4 340B Reward), and assigned a quality score. All records are then fed to the data processing stage for further processing."
   ]
  },
  {
   "cell_type": "raw",
   "id": "13bd435a-e871-46f8-a7d0-4606b0ef32d3",
   "metadata": {
    "tags": []
   },
   "source": [
    "# Running the basic pipeline (no GPUs or external LLMs needed)\n",
    "python tutorials/peft-curation-with-sdg/main.py\n",
    "\n",
    "# Run with synthetic data generation and semantic dedeuplication\n",
    "python tutorials/peft-curation-with-sdg/main.py \\\n",
    "    --api-key YOUR_BUILD.NVIDIA.COM_API_KEY \\\n",
    "    --device gpu\n",
    "\n",
    "# To control the amount of synthetic data to generate using LLaMa 3.1 405B\n",
    "python tutorials/peft-curation-with-sdg/main.py \\\n",
    "    --api-key YOUR_BUILD.NVIDIA.COM_API_KEY \\\n",
    "    --device gpu \\  # Use the GPU and enable semantic deduplication\n",
    "    --synth-gen-rounds 1 \\ # Do 1 round of synthetic data generation\n",
    "    --synth-gen-ratio 0.001 \\  # Generate synthetic data using 0.1% of the real data\n",
    "    --synth-gen-model \"meta/llama-3.1-405b-instruct\" # Use LLaMa 3.1 405B\n",
    "\n",
    "# To control the amount of synthetic data to generate using Nemotron-4 340B\n",
    "python tutorials/peft-curation-with-sdg/main.py \\\n",
    "    --api-key YOUR_BUILD.NVIDIA.COM_API_KEY \\\n",
    "    --device gpu \\  # Use the GPU and enable semantic deduplication\n",
    "    --synth-gen-rounds 1 \\ # Do 1 round of synthetic data generation\n",
    "    --synth-gen-ratio 0.001 \\  # Generate synthetic data using 0.1% of the real data\n",
    "    --synth-gen-model \"nvidia/nemotron-4-340b-instruct\" # Use Nemotron-4 340B"
   ]
  },
  {
   "cell_type": "code",
   "execution_count": 2,
   "id": "5761006b-9b9d-4269-ad7b-0987aa3ff84b",
   "metadata": {
    "tags": []
   },
   "outputs": [],
   "source": [
    "! cd /opt/NeMo-Curator"
   ]
  },
  {
   "cell_type": "code",
   "execution_count": 3,
   "id": "484a09cb-2222-4862-a3fe-7426a4f203b1",
   "metadata": {
    "tags": []
   },
   "outputs": [
    {
     "name": "stdout",
     "output_type": "stream",
     "text": [
      "total 432\n",
      "-rw-r--r-- 1 99 99   3034 Sep 17 14:31 SDG.ipynb\n",
      "-rw-r--r-- 1 99 99 153061 Sep 25 13:23 law_titlegen_lora_test_law_inputs_preds_labels.jsonl\n",
      "-rw-r--r-- 1 99 99 275308 Sep 25 13:27 llama3-sdg-lora-nemofw.ipynb\n",
      "drwxr-xr-x 3 99 99   4096 Sep 25 11:05 results\n"
     ]
    }
   ],
   "source": [
    "!ls -l "
   ]
  },
  {
   "cell_type": "code",
   "execution_count": 4,
   "id": "48e433bf-ba72-4169-a458-3cec2b39cf37",
   "metadata": {
    "tags": []
   },
   "outputs": [
    {
     "name": "stdout",
     "output_type": "stream",
     "text": [
      "python: can't open file '/nemo-curator/pb1/./peft-curation-with-sdg/main.py': [Errno 2] No such file or directory\n"
     ]
    }
   ],
   "source": []
  },
  {
   "cell_type": "code",
   "execution_count": 7,
   "id": "b36bff9d-cf4f-44cb-9950-8785ec6ab98b",
   "metadata": {
    "tags": []
   },
   "outputs": [],
   "source": [
    "!cd /nemo-curator"
   ]
  },
  {
   "cell_type": "code",
   "execution_count": 9,
   "id": "418952c9-344b-4955-908e-3311dc715b42",
   "metadata": {
    "tags": []
   },
   "outputs": [
    {
     "data": {
      "text/plain": [
       "'/nemo-curator/pb1'"
      ]
     },
     "execution_count": 9,
     "metadata": {},
     "output_type": "execute_result"
    }
   ],
   "source": [
    "%pwd"
   ]
  },
  {
   "cell_type": "code",
   "execution_count": 8,
   "id": "b2130b59-9463-4856-87bf-4076d3a89417",
   "metadata": {
    "tags": []
   },
   "outputs": [
    {
     "name": "stdout",
     "output_type": "stream",
     "text": [
      "python: can't open file '/nemo-curator/pb1/./peft-curation-with-sdg/main.py': [Errno 2] No such file or directory\n"
     ]
    }
   ],
   "source": [
    "! python ./peft-curation-with-sdg/main.py"
   ]
  },
  {
   "cell_type": "code",
   "execution_count": 13,
   "id": "81221db0-a570-4be9-aeab-8b09629af4e6",
   "metadata": {
    "tags": []
   },
   "outputs": [
    {
     "name": "stdout",
     "output_type": "stream",
     "text": [
      "python: can't open file '/nemo-curator/pb1/tutorials/peft-curation-with-sdg/main.py': [Errno 2] No such file or directory\n"
     ]
    }
   ],
   "source": [
    "! python tutorials/peft-curation-with-sdg/main.py"
   ]
  },
  {
   "cell_type": "code",
   "execution_count": 12,
   "id": "35f41589-09e1-4613-9d11-0d7e12576889",
   "metadata": {
    "tags": []
   },
   "outputs": [],
   "source": [
    "!cd /opt/NeMo-Curator"
   ]
  },
  {
   "cell_type": "code",
   "execution_count": 14,
   "id": "4fded406-81aa-4607-9e9f-6ba90d382bc7",
   "metadata": {
    "tags": []
   },
   "outputs": [
    {
     "name": "stdout",
     "output_type": "stream",
     "text": [
      "python: can't open file '/nemo-curator/pb1/tutorials/peft-curation-with-sdg/main.py': [Errno 2] No such file or directory\n"
     ]
    }
   ],
   "source": [
    "! python tutorials/peft-curation-with-sdg/main.py"
   ]
  },
  {
   "cell_type": "code",
   "execution_count": 15,
   "id": "1e290cab-1e6f-45cd-bb5a-127f5209e6dd",
   "metadata": {
    "tags": []
   },
   "outputs": [
    {
     "data": {
      "text/plain": [
       "'/nemo-curator/pb1'"
      ]
     },
     "execution_count": 15,
     "metadata": {},
     "output_type": "execute_result"
    }
   ],
   "source": [
    "%pwd"
   ]
  },
  {
   "cell_type": "code",
   "execution_count": 16,
   "id": "619f4003-c164-40b3-8113-64cf45fb6cfc",
   "metadata": {
    "tags": []
   },
   "outputs": [],
   "source": [
    "!cd /opt/NeMo-Curator"
   ]
  },
  {
   "cell_type": "code",
   "execution_count": 17,
   "id": "709689dc-1e88-4f4c-9681-5894bedbc261",
   "metadata": {
    "tags": []
   },
   "outputs": [
    {
     "data": {
      "text/plain": [
       "'/nemo-curator/pb1'"
      ]
     },
     "execution_count": 17,
     "metadata": {},
     "output_type": "execute_result"
    }
   ],
   "source": [
    "%pwd"
   ]
  },
  {
   "cell_type": "code",
   "execution_count": null,
   "id": "dc48f418-d57e-43d3-9ef3-5aedae31dd9b",
   "metadata": {},
   "outputs": [],
   "source": []
  }
 ],
 "metadata": {
  "kernelspec": {
   "display_name": "Python 3 (ipykernel)",
   "language": "python",
   "name": "python3"
  },
  "language_info": {
   "codemirror_mode": {
    "name": "ipython",
    "version": 3
   },
   "file_extension": ".py",
   "mimetype": "text/x-python",
   "name": "python",
   "nbconvert_exporter": "python",
   "pygments_lexer": "ipython3",
   "version": "3.10.12"
  }
 },
 "nbformat": 4,
 "nbformat_minor": 5
}
